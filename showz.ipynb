{
 "cells": [
  {
   "cell_type": "markdown",
   "id": "7d7a7fac",
   "metadata": {},
   "source": [
    "# Optimizar gastos de marketing\n",
    "Descripción del proyecto\n",
    "Showz, es una empresa de venta de entradas de eventos. El objetivo es ayudar a optimizar los gastos de marketing. \n",
    "\n",
    "Se tiene:\n",
    "- Registros del servidor con datos sobre las visitas a Showz desde enero de 2017 hasta diciembre de 2018;\n",
    "- Un archivo con los pedidos en este periodo;\n",
    "- Estadísticas de gastos de marketing.\n",
    "\n",
    "Se va a investigar: \n",
    "- Cómo los clientes usan el servicio;\n",
    "- Cuándo empiezan a comprar;\n",
    "- Cuánto dinero aporta cada cliente a la compañía;\n",
    "- Cuándo los ingresos cubren el costo de adquisición de los clientes.\n",
    "\n",
    "Descripción de los datos\n",
    "La tabla visits (registros del servidor con datos sobre las visitas al sitio web):\n",
    "- Uid: identificador único del usuario.\n",
    "- Device: dispositivo del usuario.\n",
    "- Start Ts: fecha y hora de inicio de la sesión.\n",
    "- End Ts: fecha y hora de término de la sesión.\n",
    "- Source Id: identificador de la fuente de anuncios de la que proviene el usuario.\n",
    "\n",
    "La tabla orders (datos sobre pedidos):\n",
    "- Uid: identificador único del usuario que realiza un pedido.\n",
    "- Buy Ts: fecha y hora del pedido. Revenue: el ingreso de Showz por el pedido.\n",
    "\n",
    "La tabla costs (datos sobre gastos de marketing):\n",
    "- source_id: identificador de la fuente de anuncios.\n",
    "- dt: fecha.\n",
    "- costs: gastos en esta fuente de anuncios en este día.\n",
    "\n",
    "Todas las fechas de esta tabla están en formato AAAA-MM-DD.\n",
    "\n",
    "Etapas del proyecto:\n",
    "1. Acceder a los datos y prepáralos para el análisis.\n",
    "2. Hacer informes y calcular métricas. "
   ]
  },
  {
   "cell_type": "markdown",
   "id": "29699a19",
   "metadata": {},
   "source": [
    "## Acceder a los datos y prepáralos para el análisis."
   ]
  },
  {
   "cell_type": "code",
   "execution_count": 1,
   "id": "1986bdd4",
   "metadata": {},
   "outputs": [],
   "source": [
    "#Importar las librerias que se van a utilizar\n",
    "import pandas as pd\n",
    "import matplotlib.pyplot as plt\n",
    "import numpy as np"
   ]
  },
  {
   "cell_type": "code",
   "execution_count": 2,
   "id": "1ce1bab9",
   "metadata": {},
   "outputs": [],
   "source": [
    "#Acceder a los datos\n",
    "visits = pd.read_csv('/datasets/visits_log_us.csv')\n",
    "orders = pd.read_csv('/datasets/orders_log_us.csv')\n",
    "costs = pd.read_csv('/datasets/costs_us.csv')"
   ]
  },
  {
   "cell_type": "markdown",
   "id": "c677bd1c",
   "metadata": {},
   "source": [
    "### Visitas"
   ]
  },
  {
   "cell_type": "code",
   "execution_count": 3,
   "id": "b0aac999",
   "metadata": {},
   "outputs": [
    {
     "data": {
      "text/html": [
       "<div>\n",
       "<style scoped>\n",
       "    .dataframe tbody tr th:only-of-type {\n",
       "        vertical-align: middle;\n",
       "    }\n",
       "\n",
       "    .dataframe tbody tr th {\n",
       "        vertical-align: top;\n",
       "    }\n",
       "\n",
       "    .dataframe thead th {\n",
       "        text-align: right;\n",
       "    }\n",
       "</style>\n",
       "<table border=\"1\" class=\"dataframe\">\n",
       "  <thead>\n",
       "    <tr style=\"text-align: right;\">\n",
       "      <th></th>\n",
       "      <th>Device</th>\n",
       "      <th>End Ts</th>\n",
       "      <th>Source Id</th>\n",
       "      <th>Start Ts</th>\n",
       "      <th>Uid</th>\n",
       "    </tr>\n",
       "  </thead>\n",
       "  <tbody>\n",
       "    <tr>\n",
       "      <th>0</th>\n",
       "      <td>touch</td>\n",
       "      <td>2017-12-20 17:38:00</td>\n",
       "      <td>4</td>\n",
       "      <td>2017-12-20 17:20:00</td>\n",
       "      <td>16879256277535980062</td>\n",
       "    </tr>\n",
       "    <tr>\n",
       "      <th>1</th>\n",
       "      <td>desktop</td>\n",
       "      <td>2018-02-19 17:21:00</td>\n",
       "      <td>2</td>\n",
       "      <td>2018-02-19 16:53:00</td>\n",
       "      <td>104060357244891740</td>\n",
       "    </tr>\n",
       "    <tr>\n",
       "      <th>2</th>\n",
       "      <td>touch</td>\n",
       "      <td>2017-07-01 01:54:00</td>\n",
       "      <td>5</td>\n",
       "      <td>2017-07-01 01:54:00</td>\n",
       "      <td>7459035603376831527</td>\n",
       "    </tr>\n",
       "    <tr>\n",
       "      <th>3</th>\n",
       "      <td>desktop</td>\n",
       "      <td>2018-05-20 11:23:00</td>\n",
       "      <td>9</td>\n",
       "      <td>2018-05-20 10:59:00</td>\n",
       "      <td>16174680259334210214</td>\n",
       "    </tr>\n",
       "    <tr>\n",
       "      <th>4</th>\n",
       "      <td>desktop</td>\n",
       "      <td>2017-12-27 14:06:00</td>\n",
       "      <td>3</td>\n",
       "      <td>2017-12-27 14:06:00</td>\n",
       "      <td>9969694820036681168</td>\n",
       "    </tr>\n",
       "  </tbody>\n",
       "</table>\n",
       "</div>"
      ],
      "text/plain": [
       "    Device               End Ts  Source Id             Start Ts  \\\n",
       "0    touch  2017-12-20 17:38:00          4  2017-12-20 17:20:00   \n",
       "1  desktop  2018-02-19 17:21:00          2  2018-02-19 16:53:00   \n",
       "2    touch  2017-07-01 01:54:00          5  2017-07-01 01:54:00   \n",
       "3  desktop  2018-05-20 11:23:00          9  2018-05-20 10:59:00   \n",
       "4  desktop  2017-12-27 14:06:00          3  2017-12-27 14:06:00   \n",
       "\n",
       "                    Uid  \n",
       "0  16879256277535980062  \n",
       "1    104060357244891740  \n",
       "2   7459035603376831527  \n",
       "3  16174680259334210214  \n",
       "4   9969694820036681168  "
      ]
     },
     "execution_count": 3,
     "metadata": {},
     "output_type": "execute_result"
    }
   ],
   "source": [
    "#Revisar el archivo\n",
    "visits.head()"
   ]
  },
  {
   "cell_type": "code",
   "execution_count": 4,
   "id": "c69ec0fa",
   "metadata": {},
   "outputs": [
    {
     "name": "stdout",
     "output_type": "stream",
     "text": [
      "<class 'pandas.core.frame.DataFrame'>\n",
      "RangeIndex: 359400 entries, 0 to 359399\n",
      "Data columns (total 5 columns):\n",
      " #   Column     Non-Null Count   Dtype \n",
      "---  ------     --------------   ----- \n",
      " 0   Device     359400 non-null  object\n",
      " 1   End Ts     359400 non-null  object\n",
      " 2   Source Id  359400 non-null  int64 \n",
      " 3   Start Ts   359400 non-null  object\n",
      " 4   Uid        359400 non-null  uint64\n",
      "dtypes: int64(1), object(3), uint64(1)\n",
      "memory usage: 13.7+ MB\n"
     ]
    }
   ],
   "source": [
    "#Información general\n",
    "visits.info()"
   ]
  },
  {
   "cell_type": "markdown",
   "id": "ebdea9be",
   "metadata": {},
   "source": [
    "Aparentemente no hay valores ausentes, los nombres de las columnas no están con el formato snake_case y es necesario cambiar el tipo de datos de los id y las fechas."
   ]
  },
  {
   "cell_type": "code",
   "execution_count": 5,
   "id": "a0aaba04",
   "metadata": {},
   "outputs": [
    {
     "data": {
      "text/plain": [
       "Index(['device', 'end_ts', 'source_id', 'start_ts', 'uid'], dtype='object')"
      ]
     },
     "execution_count": 5,
     "metadata": {},
     "output_type": "execute_result"
    }
   ],
   "source": [
    "#Cambiar el nombre de las columnas para que tengan el formato snake_case\n",
    "new_col_names = []\n",
    "\n",
    "for old_names in visits.columns:\n",
    "    name_lowered = old_names.lower()\n",
    "    name_stripped = name_lowered.strip()\n",
    "    new_col_names.append(name_stripped)\n",
    "    \n",
    "visits.columns = new_col_names\n",
    "\n",
    "columns_new = {'end ts': 'end_ts', 'source id':'source_id', 'start ts':'start_ts'}\n",
    "\n",
    "visits.rename(columns = columns_new, inplace=True)\n",
    "\n",
    "visits.columns "
   ]
  },
  {
   "cell_type": "code",
   "execution_count": 6,
   "id": "fecc4fa3",
   "metadata": {},
   "outputs": [
    {
     "name": "stdout",
     "output_type": "stream",
     "text": [
      "<class 'pandas.core.frame.DataFrame'>\n",
      "RangeIndex: 359400 entries, 0 to 359399\n",
      "Data columns (total 5 columns):\n",
      " #   Column     Non-Null Count   Dtype         \n",
      "---  ------     --------------   -----         \n",
      " 0   device     359400 non-null  object        \n",
      " 1   end_ts     359400 non-null  datetime64[ns]\n",
      " 2   source_id  359400 non-null  object        \n",
      " 3   start_ts   359400 non-null  datetime64[ns]\n",
      " 4   uid        359400 non-null  object        \n",
      "dtypes: datetime64[ns](2), object(3)\n",
      "memory usage: 13.7+ MB\n"
     ]
    }
   ],
   "source": [
    "#Cambiar 'end_ts' y 'start_ts' a tipo de datos de fechas\n",
    "visits['end_ts'] = pd.to_datetime(visits['end_ts'], format = '%Y-%m-%d %H:%M:%S')\n",
    "visits['start_ts'] = pd.to_datetime(visits['start_ts'], format = '%Y-%m-%d %H:%M:%S')\n",
    "\n",
    "#'source_id' y 'uid' no son números para hacer calculos, así que se cambian a tipo object\n",
    "visits['source_id'] = visits['source_id'].astype('object')\n",
    "visits['uid'] = visits['uid'].astype('object')\n",
    "\n",
    "visits.info() "
   ]
  },
  {
   "cell_type": "code",
   "execution_count": 7,
   "id": "4cef0249",
   "metadata": {},
   "outputs": [
    {
     "data": {
      "text/plain": [
       "0"
      ]
     },
     "execution_count": 7,
     "metadata": {},
     "output_type": "execute_result"
    }
   ],
   "source": [
    "#Verificar si hay valores duplicados\n",
    "visits.duplicated().sum()"
   ]
  },
  {
   "cell_type": "code",
   "execution_count": 8,
   "id": "194ef7f2",
   "metadata": {},
   "outputs": [
    {
     "data": {
      "text/plain": [
       "device       0\n",
       "end_ts       0\n",
       "source_id    0\n",
       "start_ts     0\n",
       "uid          0\n",
       "dtype: int64"
      ]
     },
     "execution_count": 8,
     "metadata": {},
     "output_type": "execute_result"
    }
   ],
   "source": [
    "#Verificar si hay valores ausentes\n",
    "visits.isna().sum()"
   ]
  },
  {
   "cell_type": "markdown",
   "id": "d7091311",
   "metadata": {},
   "source": [
    "### Pedidos"
   ]
  },
  {
   "cell_type": "code",
   "execution_count": 9,
   "id": "484dc01a",
   "metadata": {},
   "outputs": [
    {
     "data": {
      "text/html": [
       "<div>\n",
       "<style scoped>\n",
       "    .dataframe tbody tr th:only-of-type {\n",
       "        vertical-align: middle;\n",
       "    }\n",
       "\n",
       "    .dataframe tbody tr th {\n",
       "        vertical-align: top;\n",
       "    }\n",
       "\n",
       "    .dataframe thead th {\n",
       "        text-align: right;\n",
       "    }\n",
       "</style>\n",
       "<table border=\"1\" class=\"dataframe\">\n",
       "  <thead>\n",
       "    <tr style=\"text-align: right;\">\n",
       "      <th></th>\n",
       "      <th>Buy Ts</th>\n",
       "      <th>Revenue</th>\n",
       "      <th>Uid</th>\n",
       "    </tr>\n",
       "  </thead>\n",
       "  <tbody>\n",
       "    <tr>\n",
       "      <th>0</th>\n",
       "      <td>2017-06-01 00:10:00</td>\n",
       "      <td>17.00</td>\n",
       "      <td>10329302124590727494</td>\n",
       "    </tr>\n",
       "    <tr>\n",
       "      <th>1</th>\n",
       "      <td>2017-06-01 00:25:00</td>\n",
       "      <td>0.55</td>\n",
       "      <td>11627257723692907447</td>\n",
       "    </tr>\n",
       "    <tr>\n",
       "      <th>2</th>\n",
       "      <td>2017-06-01 00:27:00</td>\n",
       "      <td>0.37</td>\n",
       "      <td>17903680561304213844</td>\n",
       "    </tr>\n",
       "    <tr>\n",
       "      <th>3</th>\n",
       "      <td>2017-06-01 00:29:00</td>\n",
       "      <td>0.55</td>\n",
       "      <td>16109239769442553005</td>\n",
       "    </tr>\n",
       "    <tr>\n",
       "      <th>4</th>\n",
       "      <td>2017-06-01 07:58:00</td>\n",
       "      <td>0.37</td>\n",
       "      <td>14200605875248379450</td>\n",
       "    </tr>\n",
       "  </tbody>\n",
       "</table>\n",
       "</div>"
      ],
      "text/plain": [
       "                Buy Ts  Revenue                   Uid\n",
       "0  2017-06-01 00:10:00    17.00  10329302124590727494\n",
       "1  2017-06-01 00:25:00     0.55  11627257723692907447\n",
       "2  2017-06-01 00:27:00     0.37  17903680561304213844\n",
       "3  2017-06-01 00:29:00     0.55  16109239769442553005\n",
       "4  2017-06-01 07:58:00     0.37  14200605875248379450"
      ]
     },
     "execution_count": 9,
     "metadata": {},
     "output_type": "execute_result"
    }
   ],
   "source": [
    "#Revisar el archivo \n",
    "orders.head()"
   ]
  },
  {
   "cell_type": "code",
   "execution_count": 10,
   "id": "25873134",
   "metadata": {},
   "outputs": [
    {
     "name": "stdout",
     "output_type": "stream",
     "text": [
      "<class 'pandas.core.frame.DataFrame'>\n",
      "RangeIndex: 50415 entries, 0 to 50414\n",
      "Data columns (total 3 columns):\n",
      " #   Column   Non-Null Count  Dtype  \n",
      "---  ------   --------------  -----  \n",
      " 0   Buy Ts   50415 non-null  object \n",
      " 1   Revenue  50415 non-null  float64\n",
      " 2   Uid      50415 non-null  uint64 \n",
      "dtypes: float64(1), object(1), uint64(1)\n",
      "memory usage: 1.2+ MB\n"
     ]
    }
   ],
   "source": [
    "#Información general\n",
    "orders.info()"
   ]
  },
  {
   "cell_type": "markdown",
   "id": "aa4ad733",
   "metadata": {},
   "source": [
    "Aparentemente no hay valores ausentes, los nombres de las columnas no están con el formato snake_case y es necesario cambiar el tipo de datos de los id y las fechas."
   ]
  },
  {
   "cell_type": "code",
   "execution_count": 11,
   "id": "ccc4e4e0",
   "metadata": {},
   "outputs": [
    {
     "data": {
      "text/plain": [
       "Index(['buy_ts', 'revenue', 'uid'], dtype='object')"
      ]
     },
     "execution_count": 11,
     "metadata": {},
     "output_type": "execute_result"
    }
   ],
   "source": [
    "#Cambiar el nombre de las columnas para que tengan el formato snake_case\n",
    "new_col_names = []\n",
    "\n",
    "for old_names in orders.columns:\n",
    "    name_lowered = old_names.lower()\n",
    "    name_stripped = name_lowered.strip()\n",
    "    new_col_names.append(name_stripped)\n",
    "    \n",
    "orders.columns = new_col_names\n",
    "\n",
    "columns_new = {'buy ts':'buy_ts'}\n",
    "\n",
    "orders.rename(columns = columns_new, inplace=True)\n",
    "\n",
    "orders.columns "
   ]
  },
  {
   "cell_type": "code",
   "execution_count": 12,
   "id": "df2d6fd4",
   "metadata": {},
   "outputs": [
    {
     "name": "stdout",
     "output_type": "stream",
     "text": [
      "<class 'pandas.core.frame.DataFrame'>\n",
      "RangeIndex: 50415 entries, 0 to 50414\n",
      "Data columns (total 3 columns):\n",
      " #   Column   Non-Null Count  Dtype         \n",
      "---  ------   --------------  -----         \n",
      " 0   buy_ts   50415 non-null  datetime64[ns]\n",
      " 1   revenue  50415 non-null  float64       \n",
      " 2   uid      50415 non-null  object        \n",
      "dtypes: datetime64[ns](1), float64(1), object(1)\n",
      "memory usage: 1.2+ MB\n"
     ]
    }
   ],
   "source": [
    "#Cambiar 'buy_ts' a tipo de datos de fechas\n",
    "orders['buy_ts'] = pd.to_datetime(orders['buy_ts'], format = '%Y-%m-%d %H:%M:%S')\n",
    "\n",
    "#'source_id' y 'uid' no son números para hacer cálculos, así que se cambian a tipo object\n",
    "orders['uid'] = orders['uid'].astype('object')\n",
    "\n",
    "orders.info() "
   ]
  },
  {
   "cell_type": "code",
   "execution_count": 13,
   "id": "19764a97",
   "metadata": {},
   "outputs": [
    {
     "data": {
      "text/plain": [
       "0"
      ]
     },
     "execution_count": 13,
     "metadata": {},
     "output_type": "execute_result"
    }
   ],
   "source": [
    "#Verificar si hay valores duplicados\n",
    "orders.duplicated().sum()"
   ]
  },
  {
   "cell_type": "code",
   "execution_count": 14,
   "id": "3f4e95fd",
   "metadata": {},
   "outputs": [
    {
     "data": {
      "text/plain": [
       "buy_ts     0\n",
       "revenue    0\n",
       "uid        0\n",
       "dtype: int64"
      ]
     },
     "execution_count": 14,
     "metadata": {},
     "output_type": "execute_result"
    }
   ],
   "source": [
    "#Verificar si hay valores ausentes\n",
    "orders.isna().sum()"
   ]
  },
  {
   "cell_type": "markdown",
   "id": "6f122038",
   "metadata": {},
   "source": [
    "### Costos"
   ]
  },
  {
   "cell_type": "code",
   "execution_count": 15,
   "id": "f6f1218a",
   "metadata": {},
   "outputs": [
    {
     "data": {
      "text/html": [
       "<div>\n",
       "<style scoped>\n",
       "    .dataframe tbody tr th:only-of-type {\n",
       "        vertical-align: middle;\n",
       "    }\n",
       "\n",
       "    .dataframe tbody tr th {\n",
       "        vertical-align: top;\n",
       "    }\n",
       "\n",
       "    .dataframe thead th {\n",
       "        text-align: right;\n",
       "    }\n",
       "</style>\n",
       "<table border=\"1\" class=\"dataframe\">\n",
       "  <thead>\n",
       "    <tr style=\"text-align: right;\">\n",
       "      <th></th>\n",
       "      <th>source_id</th>\n",
       "      <th>dt</th>\n",
       "      <th>costs</th>\n",
       "    </tr>\n",
       "  </thead>\n",
       "  <tbody>\n",
       "    <tr>\n",
       "      <th>0</th>\n",
       "      <td>1</td>\n",
       "      <td>2017-06-01</td>\n",
       "      <td>75.20</td>\n",
       "    </tr>\n",
       "    <tr>\n",
       "      <th>1</th>\n",
       "      <td>1</td>\n",
       "      <td>2017-06-02</td>\n",
       "      <td>62.25</td>\n",
       "    </tr>\n",
       "    <tr>\n",
       "      <th>2</th>\n",
       "      <td>1</td>\n",
       "      <td>2017-06-03</td>\n",
       "      <td>36.53</td>\n",
       "    </tr>\n",
       "    <tr>\n",
       "      <th>3</th>\n",
       "      <td>1</td>\n",
       "      <td>2017-06-04</td>\n",
       "      <td>55.00</td>\n",
       "    </tr>\n",
       "    <tr>\n",
       "      <th>4</th>\n",
       "      <td>1</td>\n",
       "      <td>2017-06-05</td>\n",
       "      <td>57.08</td>\n",
       "    </tr>\n",
       "  </tbody>\n",
       "</table>\n",
       "</div>"
      ],
      "text/plain": [
       "   source_id          dt  costs\n",
       "0          1  2017-06-01  75.20\n",
       "1          1  2017-06-02  62.25\n",
       "2          1  2017-06-03  36.53\n",
       "3          1  2017-06-04  55.00\n",
       "4          1  2017-06-05  57.08"
      ]
     },
     "execution_count": 15,
     "metadata": {},
     "output_type": "execute_result"
    }
   ],
   "source": [
    "#Revisar el archivo \n",
    "costs.head()"
   ]
  },
  {
   "cell_type": "code",
   "execution_count": 16,
   "id": "bcc4acc8",
   "metadata": {},
   "outputs": [
    {
     "name": "stdout",
     "output_type": "stream",
     "text": [
      "<class 'pandas.core.frame.DataFrame'>\n",
      "RangeIndex: 2542 entries, 0 to 2541\n",
      "Data columns (total 3 columns):\n",
      " #   Column     Non-Null Count  Dtype  \n",
      "---  ------     --------------  -----  \n",
      " 0   source_id  2542 non-null   int64  \n",
      " 1   dt         2542 non-null   object \n",
      " 2   costs      2542 non-null   float64\n",
      "dtypes: float64(1), int64(1), object(1)\n",
      "memory usage: 59.7+ KB\n"
     ]
    }
   ],
   "source": [
    "#Información general \n",
    "costs.info()"
   ]
  },
  {
   "cell_type": "markdown",
   "id": "7dbbefe1",
   "metadata": {},
   "source": [
    "Aparentemente no hay valores ausentes, los nombres de las columnas en formato snake_case y es necesario cambiar el tipo de datos de los id y las fechas."
   ]
  },
  {
   "cell_type": "code",
   "execution_count": 18,
   "id": "7ca54849",
   "metadata": {},
   "outputs": [
    {
     "name": "stdout",
     "output_type": "stream",
     "text": [
      "<class 'pandas.core.frame.DataFrame'>\n",
      "RangeIndex: 2542 entries, 0 to 2541\n",
      "Data columns (total 3 columns):\n",
      " #   Column     Non-Null Count  Dtype         \n",
      "---  ------     --------------  -----         \n",
      " 0   source_id  2542 non-null   object        \n",
      " 1   dt         2542 non-null   datetime64[ns]\n",
      " 2   costs      2542 non-null   float64       \n",
      "dtypes: datetime64[ns](1), float64(1), object(1)\n",
      "memory usage: 59.7+ KB\n"
     ]
    }
   ],
   "source": [
    "#Cambiar 'dt' a tipo de datos de fechas\n",
    "costs['dt'] = pd.to_datetime(costs['dt'], format = '%Y-%m-%d')\n",
    "\n",
    "#'source_id' no son némeros para hacer cálculos, así que se cambian a tipo object\n",
    "costs['source_id'] = costs['source_id'].astype('object')\n",
    "\n",
    "costs.info() "
   ]
  },
  {
   "cell_type": "code",
   "execution_count": 19,
   "id": "3c8b44ac",
   "metadata": {},
   "outputs": [
    {
     "data": {
      "text/plain": [
       "0"
      ]
     },
     "execution_count": 19,
     "metadata": {},
     "output_type": "execute_result"
    }
   ],
   "source": [
    "#Verificar si hay valores duplicados\n",
    "costs.duplicated().sum()"
   ]
  },
  {
   "cell_type": "code",
   "execution_count": 20,
   "id": "d25711ff",
   "metadata": {},
   "outputs": [
    {
     "data": {
      "text/plain": [
       "source_id    0\n",
       "dt           0\n",
       "costs        0\n",
       "dtype: int64"
      ]
     },
     "execution_count": 20,
     "metadata": {},
     "output_type": "execute_result"
    }
   ],
   "source": [
    "#Verificar si hay valores ausentes\n",
    "costs.isna().sum()"
   ]
  },
  {
   "cell_type": "markdown",
   "id": "d87acfce",
   "metadata": {},
   "source": [
    "## Hacer informes y calcular métricas"
   ]
  },
  {
   "cell_type": "markdown",
   "id": "c8b7a29f",
   "metadata": {},
   "source": [
    "### Visitas"
   ]
  },
  {
   "cell_type": "markdown",
   "id": "cbbd948a",
   "metadata": {},
   "source": [
    "#### ¿Cuántas personas lo usan cada día, semana y mes?"
   ]
  },
  {
   "cell_type": "code",
   "execution_count": 21,
   "id": "9f018114",
   "metadata": {},
   "outputs": [
    {
     "name": "stdout",
     "output_type": "stream",
     "text": [
      "Usuarios por días: 907\n",
      "Usuarios por semana: 5716\n",
      "Usuarios por mes: 23228\n"
     ]
    }
   ],
   "source": [
    "#Crear columnas separadas para los valores de día, semana, mes y año\n",
    "visits['day'] = visits['start_ts'].dt.to_period('D').dt.start_time\n",
    "visits['week'] = visits['start_ts'].dt.to_period('W').dt.start_time\n",
    "visits['month'] = visits['start_ts'].dt.to_period('M').dt.start_time\n",
    "\n",
    "#Calcular el número de usuarios diarios\n",
    "dau_total = visits.groupby('day').agg({'uid': 'nunique'}).mean()\n",
    "\n",
    "#Calcular el número de usuarios por semana\n",
    "wau_total = visits.groupby('week').agg({'uid': 'nunique'}).mean()\n",
    "\n",
    "#Calcular el número de usuarios por semana\n",
    "mau_total = visits.groupby('month').agg({'uid': 'nunique'}).mean()\n",
    "\n",
    "print('Usuarios por días:', int(dau_total))\n",
    "print('Usuarios por semana:', int(wau_total))\n",
    "print('Usuarios por mes:', int(mau_total))"
   ]
  },
  {
   "cell_type": "markdown",
   "id": "9d21b2f2",
   "metadata": {},
   "source": [
    "#### ¿Cuántas sesiones hay por día?"
   ]
  },
  {
   "cell_type": "code",
   "execution_count": 24,
   "id": "82d25b38",
   "metadata": {},
   "outputs": [
    {
     "data": {
      "text/html": [
       "<div>\n",
       "<style scoped>\n",
       "    .dataframe tbody tr th:only-of-type {\n",
       "        vertical-align: middle;\n",
       "    }\n",
       "\n",
       "    .dataframe tbody tr th {\n",
       "        vertical-align: top;\n",
       "    }\n",
       "\n",
       "    .dataframe thead th {\n",
       "        text-align: right;\n",
       "    }\n",
       "</style>\n",
       "<table border=\"1\" class=\"dataframe\">\n",
       "  <thead>\n",
       "    <tr style=\"text-align: right;\">\n",
       "      <th></th>\n",
       "      <th>n_sessions</th>\n",
       "    </tr>\n",
       "    <tr>\n",
       "      <th>day</th>\n",
       "      <th></th>\n",
       "    </tr>\n",
       "  </thead>\n",
       "  <tbody>\n",
       "    <tr>\n",
       "      <th>2017-06-01</th>\n",
       "      <td>664</td>\n",
       "    </tr>\n",
       "    <tr>\n",
       "      <th>2017-06-02</th>\n",
       "      <td>658</td>\n",
       "    </tr>\n",
       "    <tr>\n",
       "      <th>2017-06-03</th>\n",
       "      <td>477</td>\n",
       "    </tr>\n",
       "    <tr>\n",
       "      <th>2017-06-04</th>\n",
       "      <td>510</td>\n",
       "    </tr>\n",
       "    <tr>\n",
       "      <th>2017-06-05</th>\n",
       "      <td>893</td>\n",
       "    </tr>\n",
       "  </tbody>\n",
       "</table>\n",
       "</div>"
      ],
      "text/plain": [
       "            n_sessions\n",
       "day                   \n",
       "2017-06-01         664\n",
       "2017-06-02         658\n",
       "2017-06-03         477\n",
       "2017-06-04         510\n",
       "2017-06-05         893"
      ]
     },
     "execution_count": 24,
     "metadata": {},
     "output_type": "execute_result"
    }
   ],
   "source": [
    "#Calcular las sesiones por días\n",
    "sessions_per_day = visits.groupby('day').agg({'uid':['count']})\n",
    "sessions_per_day.columns = ['n_sessions']\n",
    "sessions_per_day.head()"
   ]
  },
  {
   "cell_type": "markdown",
   "id": "4e7c7c9b",
   "metadata": {},
   "source": [
    "#### ¿Cuál es la duración de cada sesión?"
   ]
  },
  {
   "cell_type": "code",
   "execution_count": 25,
   "id": "51d2b582",
   "metadata": {},
   "outputs": [
    {
     "data": {
      "text/html": [
       "<div>\n",
       "<style scoped>\n",
       "    .dataframe tbody tr th:only-of-type {\n",
       "        vertical-align: middle;\n",
       "    }\n",
       "\n",
       "    .dataframe tbody tr th {\n",
       "        vertical-align: top;\n",
       "    }\n",
       "\n",
       "    .dataframe thead th {\n",
       "        text-align: right;\n",
       "    }\n",
       "</style>\n",
       "<table border=\"1\" class=\"dataframe\">\n",
       "  <thead>\n",
       "    <tr style=\"text-align: right;\">\n",
       "      <th></th>\n",
       "      <th>device</th>\n",
       "      <th>end_ts</th>\n",
       "      <th>source_id</th>\n",
       "      <th>start_ts</th>\n",
       "      <th>uid</th>\n",
       "      <th>day</th>\n",
       "      <th>week</th>\n",
       "      <th>month</th>\n",
       "      <th>session_duration_sec</th>\n",
       "    </tr>\n",
       "  </thead>\n",
       "  <tbody>\n",
       "    <tr>\n",
       "      <th>0</th>\n",
       "      <td>touch</td>\n",
       "      <td>2017-12-20 17:38:00</td>\n",
       "      <td>4</td>\n",
       "      <td>2017-12-20 17:20:00</td>\n",
       "      <td>16879256277535980062</td>\n",
       "      <td>2017-12-20</td>\n",
       "      <td>2017-12-18</td>\n",
       "      <td>2017-12-01</td>\n",
       "      <td>1080</td>\n",
       "    </tr>\n",
       "    <tr>\n",
       "      <th>1</th>\n",
       "      <td>desktop</td>\n",
       "      <td>2018-02-19 17:21:00</td>\n",
       "      <td>2</td>\n",
       "      <td>2018-02-19 16:53:00</td>\n",
       "      <td>104060357244891740</td>\n",
       "      <td>2018-02-19</td>\n",
       "      <td>2018-02-19</td>\n",
       "      <td>2018-02-01</td>\n",
       "      <td>1680</td>\n",
       "    </tr>\n",
       "    <tr>\n",
       "      <th>2</th>\n",
       "      <td>touch</td>\n",
       "      <td>2017-07-01 01:54:00</td>\n",
       "      <td>5</td>\n",
       "      <td>2017-07-01 01:54:00</td>\n",
       "      <td>7459035603376831527</td>\n",
       "      <td>2017-07-01</td>\n",
       "      <td>2017-06-26</td>\n",
       "      <td>2017-07-01</td>\n",
       "      <td>0</td>\n",
       "    </tr>\n",
       "    <tr>\n",
       "      <th>3</th>\n",
       "      <td>desktop</td>\n",
       "      <td>2018-05-20 11:23:00</td>\n",
       "      <td>9</td>\n",
       "      <td>2018-05-20 10:59:00</td>\n",
       "      <td>16174680259334210214</td>\n",
       "      <td>2018-05-20</td>\n",
       "      <td>2018-05-14</td>\n",
       "      <td>2018-05-01</td>\n",
       "      <td>1440</td>\n",
       "    </tr>\n",
       "    <tr>\n",
       "      <th>4</th>\n",
       "      <td>desktop</td>\n",
       "      <td>2017-12-27 14:06:00</td>\n",
       "      <td>3</td>\n",
       "      <td>2017-12-27 14:06:00</td>\n",
       "      <td>9969694820036681168</td>\n",
       "      <td>2017-12-27</td>\n",
       "      <td>2017-12-25</td>\n",
       "      <td>2017-12-01</td>\n",
       "      <td>0</td>\n",
       "    </tr>\n",
       "  </tbody>\n",
       "</table>\n",
       "</div>"
      ],
      "text/plain": [
       "    device              end_ts source_id            start_ts  \\\n",
       "0    touch 2017-12-20 17:38:00         4 2017-12-20 17:20:00   \n",
       "1  desktop 2018-02-19 17:21:00         2 2018-02-19 16:53:00   \n",
       "2    touch 2017-07-01 01:54:00         5 2017-07-01 01:54:00   \n",
       "3  desktop 2018-05-20 11:23:00         9 2018-05-20 10:59:00   \n",
       "4  desktop 2017-12-27 14:06:00         3 2017-12-27 14:06:00   \n",
       "\n",
       "                    uid        day       week      month  session_duration_sec  \n",
       "0  16879256277535980062 2017-12-20 2017-12-18 2017-12-01                  1080  \n",
       "1    104060357244891740 2018-02-19 2018-02-19 2018-02-01                  1680  \n",
       "2   7459035603376831527 2017-07-01 2017-06-26 2017-07-01                     0  \n",
       "3  16174680259334210214 2018-05-20 2018-05-14 2018-05-01                  1440  \n",
       "4   9969694820036681168 2017-12-27 2017-12-25 2017-12-01                     0  "
      ]
     },
     "execution_count": 25,
     "metadata": {},
     "output_type": "execute_result"
    }
   ],
   "source": [
    "#Crear una columna para calcular la duración de la sesión por segundos\n",
    "visits['session_duration_sec'] = (visits['end_ts'] - visits['start_ts']).dt.seconds\n",
    "visits.head()"
   ]
  },
  {
   "cell_type": "code",
   "execution_count": 26,
   "id": "814a87ec",
   "metadata": {},
   "outputs": [
    {
     "data": {
      "text/plain": [
       "<AxesSubplot:>"
      ]
     },
     "execution_count": 26,
     "metadata": {},
     "output_type": "execute_result"
    },
    {
     "data": {
      "image/png": "[encoded data removed]",
      "text/plain": [
       "<Figure size 640x480 with 1 Axes>"
      ]
     },
     "metadata": {},
     "output_type": "display_data"
    }
   ],
   "source": [
    "#Verificar la distribución de la duración para determinar si es confiable utilizar la media\n",
    "visits['session_duration_sec'].hist(bins=50)"
   ]
  },
  {
   "cell_type": "markdown",
   "id": "2cfec913",
   "metadata": {},
   "source": [
    "La distribución de la duración de las sesiones no es normal, por lo que en vez de utilizar la media para calcular la duración promedio, voy a utilizar la moda."
   ]
  },
  {
   "cell_type": "code",
   "execution_count": 27,
   "id": "8835db9a",
   "metadata": {},
   "outputs": [
    {
     "data": {
      "text/plain": [
       "0    60\n",
       "dtype: int64"
      ]
     },
     "execution_count": 27,
     "metadata": {},
     "output_type": "execute_result"
    }
   ],
   "source": [
    "#Calcular la duración media de la sesión\n",
    "asl = visits['session_duration_sec'].mode()\n",
    "asl"
   ]
  },
  {
   "cell_type": "markdown",
   "id": "74b1a538",
   "metadata": {},
   "source": [
    "La sesión promedio de los usuarios es de 60 segundos, es decir 1 minuto. Probablemente esto no sea tiempo suficiente para comprar entradas de eventos."
   ]
  },
  {
   "cell_type": "markdown",
   "id": "2223eab7",
   "metadata": {},
   "source": [
    "#### ¿Con qué frecuencia los usuarios regresan?"
   ]
  },
  {
   "cell_type": "code",
   "execution_count": 28,
   "id": "df327c98",
   "metadata": {},
   "outputs": [
    {
     "data": {
      "text/html": [
       "<div>\n",
       "<style scoped>\n",
       "    .dataframe tbody tr th:only-of-type {\n",
       "        vertical-align: middle;\n",
       "    }\n",
       "\n",
       "    .dataframe tbody tr th {\n",
       "        vertical-align: top;\n",
       "    }\n",
       "\n",
       "    .dataframe thead th {\n",
       "        text-align: right;\n",
       "    }\n",
       "</style>\n",
       "<table border=\"1\" class=\"dataframe\">\n",
       "  <thead>\n",
       "    <tr style=\"text-align: right;\">\n",
       "      <th>month</th>\n",
       "      <th>2017-06-01</th>\n",
       "      <th>2017-07-01</th>\n",
       "      <th>2017-08-01</th>\n",
       "      <th>2017-09-01</th>\n",
       "      <th>2017-10-01</th>\n",
       "      <th>2017-11-01</th>\n",
       "      <th>2017-12-01</th>\n",
       "      <th>2018-01-01</th>\n",
       "      <th>2018-02-01</th>\n",
       "      <th>2018-03-01</th>\n",
       "      <th>2018-04-01</th>\n",
       "      <th>2018-05-01</th>\n",
       "    </tr>\n",
       "    <tr>\n",
       "      <th>first_month</th>\n",
       "      <th></th>\n",
       "      <th></th>\n",
       "      <th></th>\n",
       "      <th></th>\n",
       "      <th></th>\n",
       "      <th></th>\n",
       "      <th></th>\n",
       "      <th></th>\n",
       "      <th></th>\n",
       "      <th></th>\n",
       "      <th></th>\n",
       "      <th></th>\n",
       "    </tr>\n",
       "  </thead>\n",
       "  <tbody>\n",
       "    <tr>\n",
       "      <th>2017-06-01</th>\n",
       "      <td>13259.0</td>\n",
       "      <td>1043.0</td>\n",
       "      <td>713.0</td>\n",
       "      <td>814.0</td>\n",
       "      <td>909.0</td>\n",
       "      <td>947.0</td>\n",
       "      <td>809.0</td>\n",
       "      <td>766.0</td>\n",
       "      <td>694.0</td>\n",
       "      <td>674.0</td>\n",
       "      <td>539.0</td>\n",
       "      <td>596.0</td>\n",
       "    </tr>\n",
       "    <tr>\n",
       "      <th>2017-07-01</th>\n",
       "      <td>NaN</td>\n",
       "      <td>13140.0</td>\n",
       "      <td>737.0</td>\n",
       "      <td>674.0</td>\n",
       "      <td>738.0</td>\n",
       "      <td>765.0</td>\n",
       "      <td>633.0</td>\n",
       "      <td>596.0</td>\n",
       "      <td>601.0</td>\n",
       "      <td>510.0</td>\n",
       "      <td>376.0</td>\n",
       "      <td>361.0</td>\n",
       "    </tr>\n",
       "    <tr>\n",
       "      <th>2017-08-01</th>\n",
       "      <td>NaN</td>\n",
       "      <td>NaN</td>\n",
       "      <td>10181.0</td>\n",
       "      <td>783.0</td>\n",
       "      <td>640.0</td>\n",
       "      <td>639.0</td>\n",
       "      <td>510.0</td>\n",
       "      <td>448.0</td>\n",
       "      <td>370.0</td>\n",
       "      <td>402.0</td>\n",
       "      <td>284.0</td>\n",
       "      <td>265.0</td>\n",
       "    </tr>\n",
       "    <tr>\n",
       "      <th>2017-09-01</th>\n",
       "      <td>NaN</td>\n",
       "      <td>NaN</td>\n",
       "      <td>NaN</td>\n",
       "      <td>16704.0</td>\n",
       "      <td>1428.0</td>\n",
       "      <td>1156.0</td>\n",
       "      <td>847.0</td>\n",
       "      <td>658.0</td>\n",
       "      <td>632.0</td>\n",
       "      <td>599.0</td>\n",
       "      <td>404.0</td>\n",
       "      <td>381.0</td>\n",
       "    </tr>\n",
       "    <tr>\n",
       "      <th>2017-10-01</th>\n",
       "      <td>NaN</td>\n",
       "      <td>NaN</td>\n",
       "      <td>NaN</td>\n",
       "      <td>NaN</td>\n",
       "      <td>25977.0</td>\n",
       "      <td>2042.0</td>\n",
       "      <td>1357.0</td>\n",
       "      <td>1012.0</td>\n",
       "      <td>890.0</td>\n",
       "      <td>837.0</td>\n",
       "      <td>555.0</td>\n",
       "      <td>529.0</td>\n",
       "    </tr>\n",
       "    <tr>\n",
       "      <th>2017-11-01</th>\n",
       "      <td>NaN</td>\n",
       "      <td>NaN</td>\n",
       "      <td>NaN</td>\n",
       "      <td>NaN</td>\n",
       "      <td>NaN</td>\n",
       "      <td>27248.0</td>\n",
       "      <td>2133.0</td>\n",
       "      <td>1202.0</td>\n",
       "      <td>1054.0</td>\n",
       "      <td>919.0</td>\n",
       "      <td>638.0</td>\n",
       "      <td>594.0</td>\n",
       "    </tr>\n",
       "    <tr>\n",
       "      <th>2017-12-01</th>\n",
       "      <td>NaN</td>\n",
       "      <td>NaN</td>\n",
       "      <td>NaN</td>\n",
       "      <td>NaN</td>\n",
       "      <td>NaN</td>\n",
       "      <td>NaN</td>\n",
       "      <td>25268.0</td>\n",
       "      <td>1410.0</td>\n",
       "      <td>960.0</td>\n",
       "      <td>786.0</td>\n",
       "      <td>512.0</td>\n",
       "      <td>481.0</td>\n",
       "    </tr>\n",
       "    <tr>\n",
       "      <th>2018-01-01</th>\n",
       "      <td>NaN</td>\n",
       "      <td>NaN</td>\n",
       "      <td>NaN</td>\n",
       "      <td>NaN</td>\n",
       "      <td>NaN</td>\n",
       "      <td>NaN</td>\n",
       "      <td>NaN</td>\n",
       "      <td>22624.0</td>\n",
       "      <td>1351.0</td>\n",
       "      <td>890.0</td>\n",
       "      <td>565.0</td>\n",
       "      <td>458.0</td>\n",
       "    </tr>\n",
       "    <tr>\n",
       "      <th>2018-02-01</th>\n",
       "      <td>NaN</td>\n",
       "      <td>NaN</td>\n",
       "      <td>NaN</td>\n",
       "      <td>NaN</td>\n",
       "      <td>NaN</td>\n",
       "      <td>NaN</td>\n",
       "      <td>NaN</td>\n",
       "      <td>NaN</td>\n",
       "      <td>22197.0</td>\n",
       "      <td>1267.0</td>\n",
       "      <td>565.0</td>\n",
       "      <td>446.0</td>\n",
       "    </tr>\n",
       "    <tr>\n",
       "      <th>2018-03-01</th>\n",
       "      <td>NaN</td>\n",
       "      <td>NaN</td>\n",
       "      <td>NaN</td>\n",
       "      <td>NaN</td>\n",
       "      <td>NaN</td>\n",
       "      <td>NaN</td>\n",
       "      <td>NaN</td>\n",
       "      <td>NaN</td>\n",
       "      <td>NaN</td>\n",
       "      <td>20589.0</td>\n",
       "      <td>861.0</td>\n",
       "      <td>557.0</td>\n",
       "    </tr>\n",
       "    <tr>\n",
       "      <th>2018-04-01</th>\n",
       "      <td>NaN</td>\n",
       "      <td>NaN</td>\n",
       "      <td>NaN</td>\n",
       "      <td>NaN</td>\n",
       "      <td>NaN</td>\n",
       "      <td>NaN</td>\n",
       "      <td>NaN</td>\n",
       "      <td>NaN</td>\n",
       "      <td>NaN</td>\n",
       "      <td>NaN</td>\n",
       "      <td>15709.0</td>\n",
       "      <td>760.0</td>\n",
       "    </tr>\n",
       "    <tr>\n",
       "      <th>2018-05-01</th>\n",
       "      <td>NaN</td>\n",
       "      <td>NaN</td>\n",
       "      <td>NaN</td>\n",
       "      <td>NaN</td>\n",
       "      <td>NaN</td>\n",
       "      <td>NaN</td>\n",
       "      <td>NaN</td>\n",
       "      <td>NaN</td>\n",
       "      <td>NaN</td>\n",
       "      <td>NaN</td>\n",
       "      <td>NaN</td>\n",
       "      <td>15273.0</td>\n",
       "    </tr>\n",
       "  </tbody>\n",
       "</table>\n",
       "</div>"
      ],
      "text/plain": [
       "month        2017-06-01  2017-07-01  2017-08-01  2017-09-01  2017-10-01  \\\n",
       "first_month                                                               \n",
       "2017-06-01      13259.0      1043.0       713.0       814.0       909.0   \n",
       "2017-07-01          NaN     13140.0       737.0       674.0       738.0   \n",
       "2017-08-01          NaN         NaN     10181.0       783.0       640.0   \n",
       "2017-09-01          NaN         NaN         NaN     16704.0      1428.0   \n",
       "2017-10-01          NaN         NaN         NaN         NaN     25977.0   \n",
       "2017-11-01          NaN         NaN         NaN         NaN         NaN   \n",
       "2017-12-01          NaN         NaN         NaN         NaN         NaN   \n",
       "2018-01-01          NaN         NaN         NaN         NaN         NaN   \n",
       "2018-02-01          NaN         NaN         NaN         NaN         NaN   \n",
       "2018-03-01          NaN         NaN         NaN         NaN         NaN   \n",
       "2018-04-01          NaN         NaN         NaN         NaN         NaN   \n",
       "2018-05-01          NaN         NaN         NaN         NaN         NaN   \n",
       "\n",
       "month        2017-11-01  2017-12-01  2018-01-01  2018-02-01  2018-03-01  \\\n",
       "first_month                                                               \n",
       "2017-06-01        947.0       809.0       766.0       694.0       674.0   \n",
       "2017-07-01        765.0       633.0       596.0       601.0       510.0   \n",
       "2017-08-01        639.0       510.0       448.0       370.0       402.0   \n",
       "2017-09-01       1156.0       847.0       658.0       632.0       599.0   \n",
       "2017-10-01       2042.0      1357.0      1012.0       890.0       837.0   \n",
       "2017-11-01      27248.0      2133.0      1202.0      1054.0       919.0   \n",
       "2017-12-01          NaN     25268.0      1410.0       960.0       786.0   \n",
       "2018-01-01          NaN         NaN     22624.0      1351.0       890.0   \n",
       "2018-02-01          NaN         NaN         NaN     22197.0      1267.0   \n",
       "2018-03-01          NaN         NaN         NaN         NaN     20589.0   \n",
       "2018-04-01          NaN         NaN         NaN         NaN         NaN   \n",
       "2018-05-01          NaN         NaN         NaN         NaN         NaN   \n",
       "\n",
       "month        2018-04-01  2018-05-01  \n",
       "first_month                          \n",
       "2017-06-01        539.0       596.0  \n",
       "2017-07-01        376.0       361.0  \n",
       "2017-08-01        284.0       265.0  \n",
       "2017-09-01        404.0       381.0  \n",
       "2017-10-01        555.0       529.0  \n",
       "2017-11-01        638.0       594.0  \n",
       "2017-12-01        512.0       481.0  \n",
       "2018-01-01        565.0       458.0  \n",
       "2018-02-01        565.0       446.0  \n",
       "2018-03-01        861.0       557.0  \n",
       "2018-04-01      15709.0       760.0  \n",
       "2018-05-01          NaN     15273.0  "
      ]
     },
     "execution_count": 28,
     "metadata": {},
     "output_type": "execute_result"
    }
   ],
   "source": [
    "#Encontrar la primera visita de cada cliente\n",
    "first_visits = visits.groupby('uid')['start_ts'].min()\n",
    "\n",
    "#Cambiar el nombre de la columna\n",
    "first_visits.name = 'first_visit'\n",
    "\n",
    "#Unir el DataFrame visits con la serie first_visit_dates\n",
    "visits = visits.join(first_visits, on = 'uid')\n",
    "\n",
    "#Separar los meses de las columnas first_visit_date\n",
    "visits['first_month'] = visits['first_visit'].dt.to_period('M').dt.start_time\n",
    "\n",
    "#Agrupar por cohorte \n",
    "visits_by_cohort = visits.groupby(['month', 'first_month']).agg({'uid': 'nunique'})\n",
    "\n",
    "#Crear una tabla dinámica para poder encontrar los valores\n",
    "visits_pivot = visits_by_cohort.pivot_table(index = 'first_month',\n",
    "                                            columns = 'month',\n",
    "                                            values = 'uid',\n",
    "                                            aggfunc = 'sum')\n",
    "visits_pivot"
   ]
  },
  {
   "cell_type": "markdown",
   "id": "0ec907cd",
   "metadata": {},
   "source": [
    "En todas las cohortes el comportamiento es el mismo, mes a mes disminuye la cantidad de visitas a la página."
   ]
  },
  {
   "cell_type": "markdown",
   "id": "60d22a01",
   "metadata": {},
   "source": [
    "### Ventas"
   ]
  },
  {
   "cell_type": "markdown",
   "id": "f2d11e9d",
   "metadata": {},
   "source": [
    "#### ¿Cuándo empieza la gente a comprar?"
   ]
  },
  {
   "cell_type": "code",
   "execution_count": 30,
   "id": "d1878e75",
   "metadata": {},
   "outputs": [],
   "source": [
    "#Encontrar la primera compra de cada cliente\n",
    "first_order = orders.groupby('uid')['buy_ts'].min()\n",
    "\n",
    "#Cambiar el nombre de la columna\n",
    "first_order.name = 'first_order'\n",
    "\n",
    "#Unir el DataFrame orders con la serie first_visit_dates\n",
    "orders = orders.join(first_order, on = 'uid')\n",
    "\n",
    "#Unir el las primeras ordenes con las primeras visitas\n",
    "first_purchase = pd.merge(orders[['first_order', 'uid']], visits[['first_visit', 'uid', 'source_id']], on = 'uid')\n",
    "\n",
    "#Sacar la diferencia en horas desde el primer inicio de sesión y la primera compra\n",
    "first_purchase['time_to_order'] = (first_purchase['first_order'] - first_purchase['first_visit'])/np.timedelta64(1, 'h') "
   ]
  },
  {
   "cell_type": "code",
   "execution_count": 31,
   "id": "02063be8",
   "metadata": {},
   "outputs": [
    {
     "data": {
      "text/plain": [
       "0    Conversion 0-7d\n",
       "dtype: object"
      ]
     },
     "execution_count": 31,
     "metadata": {},
     "output_type": "execute_result"
    }
   ],
   "source": [
    "#Crear una función para categorizar el tiempo de compra por días\n",
    "def conversion(days):\n",
    "    if days <= 7:\n",
    "        return 'Conversion 0-7d'\n",
    "    elif days <= 14:\n",
    "        return 'Conversion 8-14d'\n",
    "    elif days <= 30:\n",
    "        return 'Conversion 15-30d'\n",
    "    elif days <= 60:\n",
    "        return 'Conversion 31-60d'\n",
    "    elif days <= 90:\n",
    "        return 'Conversion 61-90d'\n",
    "    elif days <= 180:\n",
    "        return 'Conversion 91-180d'\n",
    "    elif days <= 364:\n",
    "        return 'Conversion 181-364d'\n",
    "    else:\n",
    "        return 'Conversion >365d'\n",
    "    \n",
    "#Aplicar la función para crear una nueva columna de categorías\n",
    "first_purchase['conversion'] = first_purchase['time_to_order'].apply(conversion)\n",
    "\n",
    "#Sacar la moda para encontrar cual de las conversiones se repite más\n",
    "first_purchase['conversion'].mode()"
   ]
  },
  {
   "cell_type": "markdown",
   "id": "79af70de",
   "metadata": {},
   "source": [
    "La mayoría de usuarios hacen su primera compra en la primera semana después de iniciar sesión por primera vez."
   ]
  },
  {
   "cell_type": "markdown",
   "id": "21fa5253",
   "metadata": {},
   "source": [
    "#### ¿Cuántos pedidos hacen durante un período de tiempo dado?"
   ]
  },
  {
   "cell_type": "code",
   "execution_count": 32,
   "id": "24c6be64",
   "metadata": {},
   "outputs": [
    {
     "data": {
      "text/html": [
       "<div>\n",
       "<style scoped>\n",
       "    .dataframe tbody tr th:only-of-type {\n",
       "        vertical-align: middle;\n",
       "    }\n",
       "\n",
       "    .dataframe tbody tr th {\n",
       "        vertical-align: top;\n",
       "    }\n",
       "\n",
       "    .dataframe thead th {\n",
       "        text-align: right;\n",
       "    }\n",
       "</style>\n",
       "<table border=\"1\" class=\"dataframe\">\n",
       "  <thead>\n",
       "    <tr style=\"text-align: right;\">\n",
       "      <th></th>\n",
       "      <th>uid</th>\n",
       "    </tr>\n",
       "    <tr>\n",
       "      <th>month</th>\n",
       "      <th></th>\n",
       "    </tr>\n",
       "  </thead>\n",
       "  <tbody>\n",
       "    <tr>\n",
       "      <th>2017-06-01</th>\n",
       "      <td>2354</td>\n",
       "    </tr>\n",
       "    <tr>\n",
       "      <th>2017-07-01</th>\n",
       "      <td>2363</td>\n",
       "    </tr>\n",
       "    <tr>\n",
       "      <th>2017-08-01</th>\n",
       "      <td>1807</td>\n",
       "    </tr>\n",
       "    <tr>\n",
       "      <th>2017-09-01</th>\n",
       "      <td>3387</td>\n",
       "    </tr>\n",
       "    <tr>\n",
       "      <th>2017-10-01</th>\n",
       "      <td>5679</td>\n",
       "    </tr>\n",
       "    <tr>\n",
       "      <th>2017-11-01</th>\n",
       "      <td>5659</td>\n",
       "    </tr>\n",
       "    <tr>\n",
       "      <th>2017-12-01</th>\n",
       "      <td>6218</td>\n",
       "    </tr>\n",
       "    <tr>\n",
       "      <th>2018-01-01</th>\n",
       "      <td>4721</td>\n",
       "    </tr>\n",
       "    <tr>\n",
       "      <th>2018-02-01</th>\n",
       "      <td>5281</td>\n",
       "    </tr>\n",
       "    <tr>\n",
       "      <th>2018-03-01</th>\n",
       "      <td>5326</td>\n",
       "    </tr>\n",
       "    <tr>\n",
       "      <th>2018-04-01</th>\n",
       "      <td>3273</td>\n",
       "    </tr>\n",
       "    <tr>\n",
       "      <th>2018-05-01</th>\n",
       "      <td>4346</td>\n",
       "    </tr>\n",
       "    <tr>\n",
       "      <th>2018-06-01</th>\n",
       "      <td>1</td>\n",
       "    </tr>\n",
       "  </tbody>\n",
       "</table>\n",
       "</div>"
      ],
      "text/plain": [
       "             uid\n",
       "month           \n",
       "2017-06-01  2354\n",
       "2017-07-01  2363\n",
       "2017-08-01  1807\n",
       "2017-09-01  3387\n",
       "2017-10-01  5679\n",
       "2017-11-01  5659\n",
       "2017-12-01  6218\n",
       "2018-01-01  4721\n",
       "2018-02-01  5281\n",
       "2018-03-01  5326\n",
       "2018-04-01  3273\n",
       "2018-05-01  4346\n",
       "2018-06-01     1"
      ]
     },
     "execution_count": 32,
     "metadata": {},
     "output_type": "execute_result"
    }
   ],
   "source": [
    "#Crear una columna para los meses\n",
    "orders['month'] = orders['buy_ts'].dt.to_period('M').dt.start_time\n",
    "\n",
    "#Agrupar para sacar la cantidad de pedidos por mes\n",
    "orders_per_month = orders.groupby('month').agg({'uid':'count'})\n",
    "orders_per_month"
   ]
  },
  {
   "cell_type": "markdown",
   "id": "875a313a",
   "metadata": {},
   "source": [
    "Los pedidos varían mucho de mes a mes, esto puede darse porque no todos los meses hay la misma cantidad de eventos. Por otro lado, en junio de 2018 solo hubo 1 compra, así que se debe analizar si hubo algún problema con la plataforma o por qué se dio esto."
   ]
  },
  {
   "cell_type": "markdown",
   "id": "cae46f10",
   "metadata": {},
   "source": [
    "#### ¿Cuál es el tamaño promedio de compra?"
   ]
  },
  {
   "cell_type": "code",
   "execution_count": 33,
   "id": "15cfde27",
   "metadata": {},
   "outputs": [
    {
     "data": {
      "text/plain": [
       "6.901327930345262"
      ]
     },
     "execution_count": 33,
     "metadata": {},
     "output_type": "execute_result"
    }
   ],
   "source": [
    "#Agrupar por compra por usuario para sacar el promedio\n",
    "orders_revenue_per_month = orders.groupby('uid').agg({'revenue':'sum'})\n",
    "orders_revenue_per_month\n",
    "\n",
    "#Sacar el promedio de todos los meses\n",
    "average_orders = orders_revenue_per_month['revenue'].mean()\n",
    "average_orders"
   ]
  },
  {
   "cell_type": "markdown",
   "id": "0c96f000",
   "metadata": {},
   "source": [
    "El tamaño promedio de compra, por usuario, en un mes es $6.9."
   ]
  },
  {
   "cell_type": "markdown",
   "id": "e3634d52",
   "metadata": {},
   "source": [
    "#### ¿Cuánto dinero traen?"
   ]
  },
  {
   "cell_type": "code",
   "execution_count": 34,
   "id": "dc35dbf1",
   "metadata": {},
   "outputs": [
    {
     "data": {
      "text/html": [
       "<div>\n",
       "<style scoped>\n",
       "    .dataframe tbody tr th:only-of-type {\n",
       "        vertical-align: middle;\n",
       "    }\n",
       "\n",
       "    .dataframe tbody tr th {\n",
       "        vertical-align: top;\n",
       "    }\n",
       "\n",
       "    .dataframe thead th {\n",
       "        text-align: right;\n",
       "    }\n",
       "</style>\n",
       "<table border=\"1\" class=\"dataframe\">\n",
       "  <thead>\n",
       "    <tr style=\"text-align: right;\">\n",
       "      <th></th>\n",
       "      <th>source_id</th>\n",
       "      <th>ltv</th>\n",
       "    </tr>\n",
       "  </thead>\n",
       "  <tbody>\n",
       "    <tr>\n",
       "      <th>0</th>\n",
       "      <td>1</td>\n",
       "      <td>170.899521</td>\n",
       "    </tr>\n",
       "    <tr>\n",
       "      <th>1</th>\n",
       "      <td>2</td>\n",
       "      <td>150.591234</td>\n",
       "    </tr>\n",
       "    <tr>\n",
       "      <th>2</th>\n",
       "      <td>3</td>\n",
       "      <td>17.079080</td>\n",
       "    </tr>\n",
       "    <tr>\n",
       "      <th>3</th>\n",
       "      <td>4</td>\n",
       "      <td>25.468076</td>\n",
       "    </tr>\n",
       "    <tr>\n",
       "      <th>4</th>\n",
       "      <td>5</td>\n",
       "      <td>86.811236</td>\n",
       "    </tr>\n",
       "    <tr>\n",
       "      <th>5</th>\n",
       "      <td>7</td>\n",
       "      <td>1.220000</td>\n",
       "    </tr>\n",
       "    <tr>\n",
       "      <th>6</th>\n",
       "      <td>9</td>\n",
       "      <td>7.549015</td>\n",
       "    </tr>\n",
       "    <tr>\n",
       "      <th>7</th>\n",
       "      <td>10</td>\n",
       "      <td>6.218319</td>\n",
       "    </tr>\n",
       "  </tbody>\n",
       "</table>\n",
       "</div>"
      ],
      "text/plain": [
       "   source_id         ltv\n",
       "0          1  170.899521\n",
       "1          2  150.591234\n",
       "2          3   17.079080\n",
       "3          4   25.468076\n",
       "4          5   86.811236\n",
       "5          7    1.220000\n",
       "6          9    7.549015\n",
       "7         10    6.218319"
      ]
     },
     "execution_count": 34,
     "metadata": {},
     "output_type": "execute_result"
    }
   ],
   "source": [
    "#Unir el DataFrame orders con visits\n",
    "revenue = visits.merge(orders, on = 'uid')\n",
    "\n",
    "#Sacar los gastos diarios por fuente de anuncios \n",
    "ltv = revenue.groupby(['source_id', 'day'])['revenue'].sum().reset_index()\n",
    "\n",
    "#Sacar cuantos clientes nuevos se adquieren al día por fuente de anuncios\n",
    "daily_acquisition = revenue.groupby(['source_id', 'day'])['uid'].nunique().reset_index().rename(columns = {'uid': 'new_users'})\n",
    "\n",
    "#Sacar el costo diario por cliente\n",
    "daily_ltv = daily_acquisition.merge(ltv, on = ['day', 'source_id'])\n",
    "daily_ltv['ltv'] = daily_ltv['revenue'] / daily_ltv['new_users']\n",
    "daily_ltv.groupby('source_id')['ltv'].mean().reset_index()"
   ]
  },
  {
   "cell_type": "markdown",
   "id": "defdf65a",
   "metadata": {},
   "source": [
    "Las fuentes de anuncios que más ingresos generan son la #1 y #2, y la que menos ingresos genera es la #7. Se recomienda analizar las fuentes de anuncios #6 y #8, ya que según esto no están generando ingresos."
   ]
  },
  {
   "cell_type": "markdown",
   "id": "c1aae0cb",
   "metadata": {},
   "source": [
    "### Costos"
   ]
  },
  {
   "cell_type": "markdown",
   "id": "d09b36b6",
   "metadata": {},
   "source": [
    "#### ¿Cuánto dinero se gastó?"
   ]
  },
  {
   "cell_type": "code",
   "execution_count": 35,
   "id": "2d62d4d5",
   "metadata": {},
   "outputs": [
    {
     "data": {
      "text/html": [
       "<div>\n",
       "<style scoped>\n",
       "    .dataframe tbody tr th:only-of-type {\n",
       "        vertical-align: middle;\n",
       "    }\n",
       "\n",
       "    .dataframe tbody tr th {\n",
       "        vertical-align: top;\n",
       "    }\n",
       "\n",
       "    .dataframe thead th {\n",
       "        text-align: right;\n",
       "    }\n",
       "</style>\n",
       "<table border=\"1\" class=\"dataframe\">\n",
       "  <thead>\n",
       "    <tr style=\"text-align: right;\">\n",
       "      <th></th>\n",
       "      <th>source_id</th>\n",
       "      <th>costs</th>\n",
       "    </tr>\n",
       "  </thead>\n",
       "  <tbody>\n",
       "    <tr>\n",
       "      <th>0</th>\n",
       "      <td>1</td>\n",
       "      <td>20833.27</td>\n",
       "    </tr>\n",
       "    <tr>\n",
       "      <th>1</th>\n",
       "      <td>2</td>\n",
       "      <td>42806.04</td>\n",
       "    </tr>\n",
       "    <tr>\n",
       "      <th>2</th>\n",
       "      <td>3</td>\n",
       "      <td>141321.63</td>\n",
       "    </tr>\n",
       "    <tr>\n",
       "      <th>3</th>\n",
       "      <td>4</td>\n",
       "      <td>61073.60</td>\n",
       "    </tr>\n",
       "    <tr>\n",
       "      <th>4</th>\n",
       "      <td>5</td>\n",
       "      <td>51757.10</td>\n",
       "    </tr>\n",
       "    <tr>\n",
       "      <th>5</th>\n",
       "      <td>9</td>\n",
       "      <td>5517.49</td>\n",
       "    </tr>\n",
       "    <tr>\n",
       "      <th>6</th>\n",
       "      <td>10</td>\n",
       "      <td>5822.49</td>\n",
       "    </tr>\n",
       "  </tbody>\n",
       "</table>\n",
       "</div>"
      ],
      "text/plain": [
       "   source_id      costs\n",
       "0          1   20833.27\n",
       "1          2   42806.04\n",
       "2          3  141321.63\n",
       "3          4   61073.60\n",
       "4          5   51757.10\n",
       "5          9    5517.49\n",
       "6         10    5822.49"
      ]
     },
     "execution_count": 35,
     "metadata": {},
     "output_type": "execute_result"
    }
   ],
   "source": [
    "#Crear columnas separadas para los valores de día\n",
    "costs['day'] = costs['dt'].dt.to_period('D').dt.start_time\n",
    "\n",
    "#Sacae los gastos diarios por fuente de anuncios \n",
    "costs_by_source = costs.groupby('source_id')['costs'].sum().reset_index()\n",
    "costs_by_source"
   ]
  },
  {
   "cell_type": "markdown",
   "id": "e8146f80",
   "metadata": {},
   "source": [
    "A lo largo del tiempo, la fuente #3 es en la que más dinero se gasta, más del doble respecto a las otras y las #9 y #10 son las menos costosas."
   ]
  },
  {
   "cell_type": "markdown",
   "id": "19caac85",
   "metadata": {},
   "source": [
    "#### ¿Cuál fue el costo de adquisición de clientes de cada una de las fuentes?"
   ]
  },
  {
   "cell_type": "code",
   "execution_count": 36,
   "id": "5f1e1478",
   "metadata": {},
   "outputs": [
    {
     "data": {
      "text/html": [
       "<div>\n",
       "<style scoped>\n",
       "    .dataframe tbody tr th:only-of-type {\n",
       "        vertical-align: middle;\n",
       "    }\n",
       "\n",
       "    .dataframe tbody tr th {\n",
       "        vertical-align: top;\n",
       "    }\n",
       "\n",
       "    .dataframe thead th {\n",
       "        text-align: right;\n",
       "    }\n",
       "</style>\n",
       "<table border=\"1\" class=\"dataframe\">\n",
       "  <thead>\n",
       "    <tr style=\"text-align: right;\">\n",
       "      <th></th>\n",
       "      <th>source_id</th>\n",
       "      <th>cac</th>\n",
       "    </tr>\n",
       "  </thead>\n",
       "  <tbody>\n",
       "    <tr>\n",
       "      <th>0</th>\n",
       "      <td>1</td>\n",
       "      <td>1.766852</td>\n",
       "    </tr>\n",
       "    <tr>\n",
       "      <th>1</th>\n",
       "      <td>2</td>\n",
       "      <td>2.778808</td>\n",
       "    </tr>\n",
       "    <tr>\n",
       "      <th>2</th>\n",
       "      <td>3</td>\n",
       "      <td>8.753990</td>\n",
       "    </tr>\n",
       "    <tr>\n",
       "      <th>3</th>\n",
       "      <td>4</td>\n",
       "      <td>3.371557</td>\n",
       "    </tr>\n",
       "    <tr>\n",
       "      <th>4</th>\n",
       "      <td>5</td>\n",
       "      <td>4.181618</td>\n",
       "    </tr>\n",
       "    <tr>\n",
       "      <th>5</th>\n",
       "      <td>9</td>\n",
       "      <td>2.617818</td>\n",
       "    </tr>\n",
       "    <tr>\n",
       "      <th>6</th>\n",
       "      <td>10</td>\n",
       "      <td>3.791316</td>\n",
       "    </tr>\n",
       "  </tbody>\n",
       "</table>\n",
       "</div>"
      ],
      "text/plain": [
       "   source_id       cac\n",
       "0          1  1.766852\n",
       "1          2  2.778808\n",
       "2          3  8.753990\n",
       "3          4  3.371557\n",
       "4          5  4.181618\n",
       "5          9  2.617818\n",
       "6         10  3.791316"
      ]
     },
     "execution_count": 36,
     "metadata": {},
     "output_type": "execute_result"
    }
   ],
   "source": [
    "#Sacar los gastos diarios por fuente de anuncios \n",
    "daily_costs = costs.groupby(['source_id', 'day'])['costs'].sum().reset_index()\n",
    "\n",
    "#Sacar el costo diario por cliente\n",
    "daily_cac = daily_costs.merge(daily_acquisition, on = ['day', 'source_id'])\n",
    "daily_cac['cac'] = daily_cac['costs'] / daily_cac['new_users']\n",
    "daily_cac.groupby('source_id')['cac'].mean().reset_index()"
   ]
  },
  {
   "cell_type": "markdown",
   "id": "80b1c9c0",
   "metadata": {},
   "source": [
    "La fuente de anuncios más costosa es la #3 y la más económica es la #1."
   ]
  },
  {
   "cell_type": "markdown",
   "id": "f3c15276",
   "metadata": {},
   "source": [
    "#### ¿Cuán rentables eran las inversiones?"
   ]
  },
  {
   "cell_type": "code",
   "execution_count": 37,
   "id": "4efc9951",
   "metadata": {},
   "outputs": [
    {
     "data": {
      "text/html": [
       "<div>\n",
       "<style scoped>\n",
       "    .dataframe tbody tr th:only-of-type {\n",
       "        vertical-align: middle;\n",
       "    }\n",
       "\n",
       "    .dataframe tbody tr th {\n",
       "        vertical-align: top;\n",
       "    }\n",
       "\n",
       "    .dataframe thead th {\n",
       "        text-align: right;\n",
       "    }\n",
       "</style>\n",
       "<table border=\"1\" class=\"dataframe\">\n",
       "  <thead>\n",
       "    <tr style=\"text-align: right;\">\n",
       "      <th></th>\n",
       "      <th>source_id</th>\n",
       "      <th>romi</th>\n",
       "    </tr>\n",
       "  </thead>\n",
       "  <tbody>\n",
       "    <tr>\n",
       "      <th>0</th>\n",
       "      <td>1</td>\n",
       "      <td>114.395574</td>\n",
       "    </tr>\n",
       "    <tr>\n",
       "      <th>1</th>\n",
       "      <td>2</td>\n",
       "      <td>60.347642</td>\n",
       "    </tr>\n",
       "    <tr>\n",
       "      <th>2</th>\n",
       "      <td>3</td>\n",
       "      <td>2.443970</td>\n",
       "    </tr>\n",
       "    <tr>\n",
       "      <th>3</th>\n",
       "      <td>4</td>\n",
       "      <td>36.816545</td>\n",
       "    </tr>\n",
       "    <tr>\n",
       "      <th>4</th>\n",
       "      <td>5</td>\n",
       "      <td>23.346308</td>\n",
       "    </tr>\n",
       "    <tr>\n",
       "      <th>5</th>\n",
       "      <td>9</td>\n",
       "      <td>6.535282</td>\n",
       "    </tr>\n",
       "    <tr>\n",
       "      <th>6</th>\n",
       "      <td>10</td>\n",
       "      <td>3.244488</td>\n",
       "    </tr>\n",
       "  </tbody>\n",
       "</table>\n",
       "</div>"
      ],
      "text/plain": [
       "   source_id        romi\n",
       "0          1  114.395574\n",
       "1          2   60.347642\n",
       "2          3    2.443970\n",
       "3          4   36.816545\n",
       "4          5   23.346308\n",
       "5          9    6.535282\n",
       "6         10    3.244488"
      ]
     },
     "execution_count": 37,
     "metadata": {},
     "output_type": "execute_result"
    }
   ],
   "source": [
    "#Unir LTV y CAC para sacar ROMI\n",
    "daily_romi = daily_ltv.merge(daily_cac, on = 'source_id')\n",
    "daily_romi['romi'] = (daily_romi['ltv'] / daily_romi['cac']) \n",
    "daily_romi.groupby('source_id')['romi'].mean().reset_index()"
   ]
  },
  {
   "cell_type": "markdown",
   "id": "4e34a324",
   "metadata": {},
   "source": [
    "Todas las inversiones en las fuentes de anuncios, están siendo rentables. La más rentable, por mucho, es la #1. Mientras que las #3, #9 y #10 son las menos rentables, sin embargo, ninguna está generando perdidas."
   ]
  },
  {
   "cell_type": "markdown",
   "id": "f985b8ce",
   "metadata": {},
   "source": [
    "# Conclusión"
   ]
  },
  {
   "cell_type": "markdown",
   "id": "63bdfaec",
   "metadata": {},
   "source": [
    "En todas las cohortes el comportamiento es el mismo, mes a mes disminuye la cantidad de visitas a la página. Sería bueno analizar por qué los usuarios dejan de utilizar la plataforma. \n",
    "\n",
    "El tamaño promedio de compra, por usuario, en un mes es $6.9.\n",
    "\n",
    "Las fuentes de anuncios que más ingresos generan son la #1 y #2, y la que menos ingresos genera es la #7. Se recomienda analizar las fuentes de anuncios #6 y #8, ya que según esto no están generando ingresos.\n",
    "\n",
    "A lo largo del tiempo, la fuente #3 es en la que más dinero se gasta, más del doble respecto a las otras y las #9 y #10 son las menos costosas.\n",
    "\n",
    "La fuente de anuncios más costosa es la #3 y la más económica es la #1.\n",
    "\n",
    "Todas las inversiones en las fuentes de anuncios, están siendo rentables. La más rentable, por mucho, es la #1. Mientras que las #3, #9 y #10 son las menos rentables, sin embargo, ninguna está generando perdidas.\n",
    "\n",
    "La fuente de anuncios #1 es la más económica y sin embargo es la que más ganancias está generando. Por otro lado la #3 es la más costosa y es la que menos retorno de inversión está generando. Por esto, mi recomendación es invertir más en la fuente de anuncios #1 y analizar la posibilidad de no invertir más en la fuente #3."
   ]
  },
  {
   "cell_type": "code",
   "execution_count": null,
   "id": "777e44f9",
   "metadata": {},
   "outputs": [],
   "source": []
  }
 ],
 "metadata": {
  "ExecuteTimeLog": [
   {
    "duration": 433,
    "start_time": "2024-09-22T18:14:25.297Z"
   },
   {
    "duration": 498,
    "start_time": "2024-09-22T18:14:32.956Z"
   },
   {
    "duration": 10,
    "start_time": "2024-09-22T18:14:59.322Z"
   },
   {
    "duration": 36,
    "start_time": "2024-09-22T18:15:13.153Z"
   },
   {
    "duration": 5,
    "start_time": "2024-09-22T18:15:46.140Z"
   },
   {
    "duration": 163,
    "start_time": "2024-09-22T18:16:17.277Z"
   },
   {
    "duration": 104,
    "start_time": "2024-09-22T18:16:27.802Z"
   },
   {
    "duration": 33,
    "start_time": "2024-09-22T18:16:37.285Z"
   },
   {
    "duration": 407,
    "start_time": "2024-09-22T18:36:29.441Z"
   },
   {
    "duration": 413,
    "start_time": "2024-09-22T18:36:29.850Z"
   },
   {
    "duration": 11,
    "start_time": "2024-09-22T18:36:30.265Z"
   },
   {
    "duration": 57,
    "start_time": "2024-09-22T18:36:30.277Z"
   },
   {
    "duration": 6,
    "start_time": "2024-09-22T18:36:30.336Z"
   },
   {
    "duration": 179,
    "start_time": "2024-09-22T18:36:30.344Z"
   },
   {
    "duration": 178,
    "start_time": "2024-09-22T18:36:30.524Z"
   },
   {
    "duration": 37,
    "start_time": "2024-09-22T18:36:30.704Z"
   },
   {
    "duration": 7,
    "start_time": "2024-09-22T18:36:59.181Z"
   },
   {
    "duration": 10,
    "start_time": "2024-09-22T18:37:10.756Z"
   },
   {
    "duration": 5,
    "start_time": "2024-09-22T18:38:00.717Z"
   },
   {
    "duration": 19,
    "start_time": "2024-09-22T18:38:27.391Z"
   },
   {
    "duration": 13,
    "start_time": "2024-09-22T18:38:37.763Z"
   },
   {
    "duration": 7,
    "start_time": "2024-09-22T18:38:50.967Z"
   },
   {
    "duration": 7,
    "start_time": "2024-09-22T18:39:10.781Z"
   },
   {
    "duration": 9,
    "start_time": "2024-09-22T18:39:19.756Z"
   },
   {
    "duration": 4,
    "start_time": "2024-09-22T18:39:28.595Z"
   },
   {
    "duration": 11,
    "start_time": "2024-09-22T18:40:10.728Z"
   },
   {
    "duration": 6,
    "start_time": "2024-09-22T18:40:22.755Z"
   },
   {
    "duration": 5,
    "start_time": "2024-09-22T18:40:30.979Z"
   },
   {
    "duration": 386,
    "start_time": "2024-09-22T18:41:31.959Z"
   },
   {
    "duration": 23,
    "start_time": "2024-09-22T18:41:50.959Z"
   },
   {
    "duration": 20,
    "start_time": "2024-09-22T18:42:12.218Z"
   },
   {
    "duration": 21,
    "start_time": "2024-09-22T18:42:29.585Z"
   },
   {
    "duration": 18,
    "start_time": "2024-09-22T18:42:33.946Z"
   },
   {
    "duration": 162,
    "start_time": "2024-09-22T18:42:47.070Z"
   },
   {
    "duration": 6,
    "start_time": "2024-09-22T18:43:16.520Z"
   },
   {
    "duration": 587,
    "start_time": "2024-09-22T18:44:33.114Z"
   },
   {
    "duration": 5,
    "start_time": "2024-09-22T18:45:42.329Z"
   },
   {
    "duration": 173,
    "start_time": "2024-09-22T18:45:58.508Z"
   },
   {
    "duration": 218,
    "start_time": "2024-09-22T18:46:21.935Z"
   },
   {
    "duration": 15,
    "start_time": "2024-09-22T18:47:03.591Z"
   },
   {
    "duration": 31,
    "start_time": "2024-09-22T18:48:02.211Z"
   },
   {
    "duration": 441,
    "start_time": "2024-09-22T18:49:01.633Z"
   },
   {
    "duration": 9,
    "start_time": "2024-09-22T18:50:12.902Z"
   },
   {
    "duration": 14,
    "start_time": "2024-09-22T18:50:59.789Z"
   },
   {
    "duration": 64,
    "start_time": "2024-09-22T18:51:48.747Z"
   }
  ],
  "kernelspec": {
   "display_name": "Python 3 (ipykernel)",
   "language": "python",
   "name": "python3"
  },
  "language_info": {
   "codemirror_mode": {
    "name": "ipython",
    "version": 3
   },
   "file_extension": ".py",
   "mimetype": "text/x-python",
   "name": "python",
   "nbconvert_exporter": "python",
   "pygments_lexer": "ipython3",
   "version": "3.9.19"
  },
  "toc": {
   "base_numbering": 1,
   "nav_menu": {},
   "number_sections": true,
   "sideBar": true,
   "skip_h1_title": true,
   "title_cell": "Table of Contents",
   "title_sidebar": "Contents",
   "toc_cell": false,
   "toc_position": {},
   "toc_section_display": true,
   "toc_window_display": false
  }
 },
 "nbformat": 4,
 "nbformat_minor": 5
}
